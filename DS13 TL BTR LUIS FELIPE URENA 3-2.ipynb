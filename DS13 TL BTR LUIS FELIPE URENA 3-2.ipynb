{
  "nbformat": 4,
  "nbformat_minor": 0,
  "metadata": {
    "colab": {
      "name": "Copy of Intermediate Linear Algebra Assignment.ipynb",
      "provenance": [],
      "collapsed_sections": [],
      "include_colab_link": true
    },
    "kernelspec": {
      "name": "python3",
      "display_name": "Python 3"
    }
  },
  "cells": [
    {
      "cell_type": "markdown",
      "metadata": {
        "id": "view-in-github",
        "colab_type": "text"
      },
      "source": [
        "<a href=\"https://colab.research.google.com/github/SIESOBOT/DS-Unit-1-Sprint-4-Linear-Algebra/blob/master/DS13%20TL%20BTR%20LUIS%20FELIPE%20URENA%203-2.ipynb\" target=\"_parent\"><img src=\"https://colab.research.google.com/assets/colab-badge.svg\" alt=\"Open In Colab\"/></a>"
      ]
    },
    {
      "cell_type": "markdown",
      "metadata": {
        "id": "GSNiYn8lr6nN",
        "colab_type": "text"
      },
      "source": [
        "# Statistics"
      ]
    },
    {
      "cell_type": "markdown",
      "metadata": {
        "id": "3d4izUhQvh2_",
        "colab_type": "text"
      },
      "source": [
        "## 1.1 Sales for the past week was the following amounts: [3505, 2400, 3027, 2798, 3700, 3250, 2689]. Without using library functions, what is the mean, variance, and standard deviation of of sales from last week? (for extra bonus points, write your own function that can calculate these two values for any sized list)"
      ]
    },
    {
      "cell_type": "code",
      "metadata": {
        "id": "w1iZfYvBtEA1",
        "colab_type": "code",
        "colab": {
          "base_uri": "https://localhost:8080/",
          "height": 67
        },
        "outputId": "80bb25c7-13d0-45b8-c3b0-a359d9112902"
      },
      "source": [
        "sales = [3505,2400,3027,2798,3700,3250,2689]\n",
        "r_mean = sum(sales) / len(sales)\n",
        "r_var = sum((r_mean - n)**0.5 for n in sales) / len(sales)\n",
        "r_std = r_var **0.5\n",
        "\n",
        "print(r_mean)\n",
        "print(r_var)\n",
        "print(r_std)"
      ],
      "execution_count": 20,
      "outputs": [
        {
          "output_type": "stream",
          "text": [
            "3052.714285714286\n",
            "(9.37860926096312+8.679237666638533j)\n",
            "(3.3284386842091402+1.3038001432645858j)\n"
          ],
          "name": "stdout"
        }
      ]
    },
    {
      "cell_type": "markdown",
      "metadata": {
        "id": "oh63KaOctEp_",
        "colab_type": "text"
      },
      "source": [
        "## 1.2 Find the covariance between last week's sales numbers and the number of customers that entered the store last week: [127, 80, 105, 92, 120, 115, 93] (you may use librray functions for calculating the covariance since we didn't specifically talk about its formula)"
      ]
    },
    {
      "cell_type": "code",
      "metadata": {
        "id": "G7ZB0krot564",
        "colab_type": "code",
        "colab": {
          "base_uri": "https://localhost:8080/",
          "height": 50
        },
        "outputId": "40587a6a-9791-4115-8be0-9152e8ffb92b"
      },
      "source": [
        "import numpy as np\n",
        "num_clients = [127,80,105,92,120,115,93]\n",
        "sales_cov = np.cov(sales,num_clients)\n",
        "\n",
        "sales_cov"
      ],
      "execution_count": 21,
      "outputs": [
        {
          "output_type": "execute_result",
          "data": {
            "text/plain": [
              "array([[214387.9047619 ,   7604.35714286],\n",
              "       [  7604.35714286,    290.95238095]])"
            ]
          },
          "metadata": {
            "tags": []
          },
          "execution_count": 21
        }
      ]
    },
    {
      "cell_type": "markdown",
      "metadata": {
        "id": "J9SbUY9mt66I",
        "colab_type": "text"
      },
      "source": [
        "## 1.3 Find the standard deviation of customers who entered the store last week. Then, use the standard deviations of both sales and customers to standardize the covariance to find the correlation coefficient that summarizes the relationship between sales and customers. (You may use library functions to check your work.)"
      ]
    },
    {
      "cell_type": "code",
      "metadata": {
        "id": "vFJms2YRrKhY",
        "colab_type": "code",
        "colab": {
          "base_uri": "https://localhost:8080/",
          "height": 50
        },
        "outputId": "7f4e964f-7282-421a-cf84-6ad7c59a2223"
      },
      "source": [
        "clients_std = np.std(num_clients,ddof=1)\n",
        "sales_std = np.std(sales,ddof=1)\n",
        "\n",
        "cor_coef = sales_cov / (clients_std * sales_std)\n",
        "\n",
        "cor_coef"
      ],
      "execution_count": 29,
      "outputs": [
        {
          "output_type": "execute_result",
          "data": {
            "text/plain": [
              "array([[27.14495851,  0.96283398],\n",
              "       [ 0.96283398,  0.03683925]])"
            ]
          },
          "metadata": {
            "tags": []
          },
          "execution_count": 29
        }
      ]
    },
    {
      "cell_type": "markdown",
      "metadata": {
        "id": "IbZVf7nmujPJ",
        "colab_type": "text"
      },
      "source": [
        "## 1.4 Use pandas to import a cleaned version of the titanic dataset from the following link: [Titanic Dataset](https://raw.githubusercontent.com/Geoyi/Cleaning-Titanic-Data/master/titanic_clean.csv)\n",
        "\n",
        "## Calculate the variance-covariance matrix and correlation matrix for the titanic dataset's numeric columns. (you can encode some of the categorical variables and include them as a stretch goal if you finish early)"
      ]
    },
    {
      "cell_type": "code",
      "metadata": {
        "id": "0TWgUIiaCFzq",
        "colab_type": "code",
        "colab": {
          "base_uri": "https://localhost:8080/",
          "height": 314
        },
        "outputId": "85cc32b2-2551-4a53-d61e-cfec7e1d7fab"
      },
      "source": [
        "import pandas as pd\n",
        "df = pd.read_csv('https://raw.githubusercontent.com/Geoyi/Cleaning-Titanic-Data/master/titanic_clean.csv')\n",
        "df.cov()\n"
      ],
      "execution_count": 32,
      "outputs": [
        {
          "output_type": "execute_result",
          "data": {
            "text/html": [
              "<div>\n",
              "<style scoped>\n",
              "    .dataframe tbody tr th:only-of-type {\n",
              "        vertical-align: middle;\n",
              "    }\n",
              "\n",
              "    .dataframe tbody tr th {\n",
              "        vertical-align: top;\n",
              "    }\n",
              "\n",
              "    .dataframe thead th {\n",
              "        text-align: right;\n",
              "    }\n",
              "</style>\n",
              "<table border=\"1\" class=\"dataframe\">\n",
              "  <thead>\n",
              "    <tr style=\"text-align: right;\">\n",
              "      <th></th>\n",
              "      <th>Unnamed: 0</th>\n",
              "      <th>pclass</th>\n",
              "      <th>survived</th>\n",
              "      <th>age</th>\n",
              "      <th>sibsp</th>\n",
              "      <th>parch</th>\n",
              "      <th>fare</th>\n",
              "      <th>body</th>\n",
              "      <th>has_cabin_number</th>\n",
              "    </tr>\n",
              "  </thead>\n",
              "  <tbody>\n",
              "    <tr>\n",
              "      <th>Unnamed: 0</th>\n",
              "      <td>1.000000</td>\n",
              "      <td>0.897822</td>\n",
              "      <td>-0.293717</td>\n",
              "      <td>-0.296172</td>\n",
              "      <td>0.065594</td>\n",
              "      <td>0.003584</td>\n",
              "      <td>-0.481215</td>\n",
              "      <td>0.015558</td>\n",
              "      <td>-0.603727</td>\n",
              "    </tr>\n",
              "    <tr>\n",
              "      <th>pclass</th>\n",
              "      <td>0.897822</td>\n",
              "      <td>1.000000</td>\n",
              "      <td>-0.312469</td>\n",
              "      <td>-0.366370</td>\n",
              "      <td>0.060832</td>\n",
              "      <td>0.018322</td>\n",
              "      <td>-0.558629</td>\n",
              "      <td>-0.034642</td>\n",
              "      <td>-0.713857</td>\n",
              "    </tr>\n",
              "    <tr>\n",
              "      <th>survived</th>\n",
              "      <td>-0.293717</td>\n",
              "      <td>-0.312469</td>\n",
              "      <td>1.000000</td>\n",
              "      <td>-0.050199</td>\n",
              "      <td>-0.027825</td>\n",
              "      <td>0.082660</td>\n",
              "      <td>0.244265</td>\n",
              "      <td>NaN</td>\n",
              "      <td>0.302250</td>\n",
              "    </tr>\n",
              "    <tr>\n",
              "      <th>age</th>\n",
              "      <td>-0.296172</td>\n",
              "      <td>-0.366370</td>\n",
              "      <td>-0.050199</td>\n",
              "      <td>1.000000</td>\n",
              "      <td>-0.190747</td>\n",
              "      <td>-0.130872</td>\n",
              "      <td>0.171892</td>\n",
              "      <td>0.059059</td>\n",
              "      <td>0.271887</td>\n",
              "    </tr>\n",
              "    <tr>\n",
              "      <th>sibsp</th>\n",
              "      <td>0.065594</td>\n",
              "      <td>0.060832</td>\n",
              "      <td>-0.027825</td>\n",
              "      <td>-0.190747</td>\n",
              "      <td>1.000000</td>\n",
              "      <td>0.373587</td>\n",
              "      <td>0.160238</td>\n",
              "      <td>-0.099961</td>\n",
              "      <td>-0.009064</td>\n",
              "    </tr>\n",
              "    <tr>\n",
              "      <th>parch</th>\n",
              "      <td>0.003584</td>\n",
              "      <td>0.018322</td>\n",
              "      <td>0.082660</td>\n",
              "      <td>-0.130872</td>\n",
              "      <td>0.373587</td>\n",
              "      <td>1.000000</td>\n",
              "      <td>0.221539</td>\n",
              "      <td>0.051099</td>\n",
              "      <td>0.036806</td>\n",
              "    </tr>\n",
              "    <tr>\n",
              "      <th>fare</th>\n",
              "      <td>-0.481215</td>\n",
              "      <td>-0.558629</td>\n",
              "      <td>0.244265</td>\n",
              "      <td>0.171892</td>\n",
              "      <td>0.160238</td>\n",
              "      <td>0.221539</td>\n",
              "      <td>1.000000</td>\n",
              "      <td>-0.043110</td>\n",
              "      <td>0.507253</td>\n",
              "    </tr>\n",
              "    <tr>\n",
              "      <th>body</th>\n",
              "      <td>0.015558</td>\n",
              "      <td>-0.034642</td>\n",
              "      <td>NaN</td>\n",
              "      <td>0.059059</td>\n",
              "      <td>-0.099961</td>\n",
              "      <td>0.051099</td>\n",
              "      <td>-0.043110</td>\n",
              "      <td>1.000000</td>\n",
              "      <td>0.083796</td>\n",
              "    </tr>\n",
              "    <tr>\n",
              "      <th>has_cabin_number</th>\n",
              "      <td>-0.603727</td>\n",
              "      <td>-0.713857</td>\n",
              "      <td>0.302250</td>\n",
              "      <td>0.271887</td>\n",
              "      <td>-0.009064</td>\n",
              "      <td>0.036806</td>\n",
              "      <td>0.507253</td>\n",
              "      <td>0.083796</td>\n",
              "      <td>1.000000</td>\n",
              "    </tr>\n",
              "  </tbody>\n",
              "</table>\n",
              "</div>"
            ],
            "text/plain": [
              "                  Unnamed: 0    pclass  ...      body  has_cabin_number\n",
              "Unnamed: 0          1.000000  0.897822  ...  0.015558         -0.603727\n",
              "pclass              0.897822  1.000000  ... -0.034642         -0.713857\n",
              "survived           -0.293717 -0.312469  ...       NaN          0.302250\n",
              "age                -0.296172 -0.366370  ...  0.059059          0.271887\n",
              "sibsp               0.065594  0.060832  ... -0.099961         -0.009064\n",
              "parch               0.003584  0.018322  ...  0.051099          0.036806\n",
              "fare               -0.481215 -0.558629  ... -0.043110          0.507253\n",
              "body                0.015558 -0.034642  ...  1.000000          0.083796\n",
              "has_cabin_number   -0.603727 -0.713857  ...  0.083796          1.000000\n",
              "\n",
              "[9 rows x 9 columns]"
            ]
          },
          "metadata": {
            "tags": []
          },
          "execution_count": 32
        }
      ]
    },
    {
      "cell_type": "code",
      "metadata": {
        "id": "NSAzE6yCbBiK",
        "colab_type": "code",
        "colab": {
          "base_uri": "https://localhost:8080/",
          "height": 314
        },
        "outputId": "4c8b8bbf-af27-4938-d77f-c38a2279ce97"
      },
      "source": [
        "df.corr()"
      ],
      "execution_count": 33,
      "outputs": [
        {
          "output_type": "execute_result",
          "data": {
            "text/html": [
              "<div>\n",
              "<style scoped>\n",
              "    .dataframe tbody tr th:only-of-type {\n",
              "        vertical-align: middle;\n",
              "    }\n",
              "\n",
              "    .dataframe tbody tr th {\n",
              "        vertical-align: top;\n",
              "    }\n",
              "\n",
              "    .dataframe thead th {\n",
              "        text-align: right;\n",
              "    }\n",
              "</style>\n",
              "<table border=\"1\" class=\"dataframe\">\n",
              "  <thead>\n",
              "    <tr style=\"text-align: right;\">\n",
              "      <th></th>\n",
              "      <th>Unnamed: 0</th>\n",
              "      <th>pclass</th>\n",
              "      <th>survived</th>\n",
              "      <th>age</th>\n",
              "      <th>sibsp</th>\n",
              "      <th>parch</th>\n",
              "      <th>fare</th>\n",
              "      <th>body</th>\n",
              "      <th>has_cabin_number</th>\n",
              "    </tr>\n",
              "  </thead>\n",
              "  <tbody>\n",
              "    <tr>\n",
              "      <th>Unnamed: 0</th>\n",
              "      <td>1.000000</td>\n",
              "      <td>0.897822</td>\n",
              "      <td>-0.293717</td>\n",
              "      <td>-0.296172</td>\n",
              "      <td>0.065594</td>\n",
              "      <td>0.003584</td>\n",
              "      <td>-0.481215</td>\n",
              "      <td>0.015558</td>\n",
              "      <td>-0.603727</td>\n",
              "    </tr>\n",
              "    <tr>\n",
              "      <th>pclass</th>\n",
              "      <td>0.897822</td>\n",
              "      <td>1.000000</td>\n",
              "      <td>-0.312469</td>\n",
              "      <td>-0.366370</td>\n",
              "      <td>0.060832</td>\n",
              "      <td>0.018322</td>\n",
              "      <td>-0.558629</td>\n",
              "      <td>-0.034642</td>\n",
              "      <td>-0.713857</td>\n",
              "    </tr>\n",
              "    <tr>\n",
              "      <th>survived</th>\n",
              "      <td>-0.293717</td>\n",
              "      <td>-0.312469</td>\n",
              "      <td>1.000000</td>\n",
              "      <td>-0.050199</td>\n",
              "      <td>-0.027825</td>\n",
              "      <td>0.082660</td>\n",
              "      <td>0.244265</td>\n",
              "      <td>NaN</td>\n",
              "      <td>0.302250</td>\n",
              "    </tr>\n",
              "    <tr>\n",
              "      <th>age</th>\n",
              "      <td>-0.296172</td>\n",
              "      <td>-0.366370</td>\n",
              "      <td>-0.050199</td>\n",
              "      <td>1.000000</td>\n",
              "      <td>-0.190747</td>\n",
              "      <td>-0.130872</td>\n",
              "      <td>0.171892</td>\n",
              "      <td>0.059059</td>\n",
              "      <td>0.271887</td>\n",
              "    </tr>\n",
              "    <tr>\n",
              "      <th>sibsp</th>\n",
              "      <td>0.065594</td>\n",
              "      <td>0.060832</td>\n",
              "      <td>-0.027825</td>\n",
              "      <td>-0.190747</td>\n",
              "      <td>1.000000</td>\n",
              "      <td>0.373587</td>\n",
              "      <td>0.160238</td>\n",
              "      <td>-0.099961</td>\n",
              "      <td>-0.009064</td>\n",
              "    </tr>\n",
              "    <tr>\n",
              "      <th>parch</th>\n",
              "      <td>0.003584</td>\n",
              "      <td>0.018322</td>\n",
              "      <td>0.082660</td>\n",
              "      <td>-0.130872</td>\n",
              "      <td>0.373587</td>\n",
              "      <td>1.000000</td>\n",
              "      <td>0.221539</td>\n",
              "      <td>0.051099</td>\n",
              "      <td>0.036806</td>\n",
              "    </tr>\n",
              "    <tr>\n",
              "      <th>fare</th>\n",
              "      <td>-0.481215</td>\n",
              "      <td>-0.558629</td>\n",
              "      <td>0.244265</td>\n",
              "      <td>0.171892</td>\n",
              "      <td>0.160238</td>\n",
              "      <td>0.221539</td>\n",
              "      <td>1.000000</td>\n",
              "      <td>-0.043110</td>\n",
              "      <td>0.507253</td>\n",
              "    </tr>\n",
              "    <tr>\n",
              "      <th>body</th>\n",
              "      <td>0.015558</td>\n",
              "      <td>-0.034642</td>\n",
              "      <td>NaN</td>\n",
              "      <td>0.059059</td>\n",
              "      <td>-0.099961</td>\n",
              "      <td>0.051099</td>\n",
              "      <td>-0.043110</td>\n",
              "      <td>1.000000</td>\n",
              "      <td>0.083796</td>\n",
              "    </tr>\n",
              "    <tr>\n",
              "      <th>has_cabin_number</th>\n",
              "      <td>-0.603727</td>\n",
              "      <td>-0.713857</td>\n",
              "      <td>0.302250</td>\n",
              "      <td>0.271887</td>\n",
              "      <td>-0.009064</td>\n",
              "      <td>0.036806</td>\n",
              "      <td>0.507253</td>\n",
              "      <td>0.083796</td>\n",
              "      <td>1.000000</td>\n",
              "    </tr>\n",
              "  </tbody>\n",
              "</table>\n",
              "</div>"
            ],
            "text/plain": [
              "                  Unnamed: 0    pclass  ...      body  has_cabin_number\n",
              "Unnamed: 0          1.000000  0.897822  ...  0.015558         -0.603727\n",
              "pclass              0.897822  1.000000  ... -0.034642         -0.713857\n",
              "survived           -0.293717 -0.312469  ...       NaN          0.302250\n",
              "age                -0.296172 -0.366370  ...  0.059059          0.271887\n",
              "sibsp               0.065594  0.060832  ... -0.099961         -0.009064\n",
              "parch               0.003584  0.018322  ...  0.051099          0.036806\n",
              "fare               -0.481215 -0.558629  ... -0.043110          0.507253\n",
              "body                0.015558 -0.034642  ...  1.000000          0.083796\n",
              "has_cabin_number   -0.603727 -0.713857  ...  0.083796          1.000000\n",
              "\n",
              "[9 rows x 9 columns]"
            ]
          },
          "metadata": {
            "tags": []
          },
          "execution_count": 33
        }
      ]
    },
    {
      "cell_type": "markdown",
      "metadata": {
        "id": "7K0Xfh8MvYkl",
        "colab_type": "text"
      },
      "source": [
        "# Orthogonality"
      ]
    },
    {
      "cell_type": "markdown",
      "metadata": {
        "id": "Pe3eOZ2fvdZ-",
        "colab_type": "text"
      },
      "source": [
        "## 2.1 Plot two vectors that are orthogonal to each other. What is a synonym for orthogonal?"
      ]
    },
    {
      "cell_type": "code",
      "metadata": {
        "id": "YLSBk7hJvvCx",
        "colab_type": "code",
        "colab": {
          "base_uri": "https://localhost:8080/",
          "height": 286
        },
        "outputId": "33e7a3c4-9e46-4a07-8bc5-4eac20a850d1"
      },
      "source": [
        "vector_1 =  [2,5]\n",
        "vector_2 = [5,2]\n",
        "import matplotlib.pyplot as plt\n",
        "plt.arrow(0,0,vector_1[0],vector_1[1], color='green')\n",
        "plt.arrow(0,0,vector_2[0],vector_2[1], color='blue')\n",
        "plt.xlim(-1,6)\n",
        "plt.ylim(-1,6)\n",
        "plt.show\n"
      ],
      "execution_count": 35,
      "outputs": [
        {
          "output_type": "execute_result",
          "data": {
            "text/plain": [
              "<function matplotlib.pyplot.show>"
            ]
          },
          "metadata": {
            "tags": []
          },
          "execution_count": 35
        },
        {
          "output_type": "display_data",
          "data": {
            "image/png": "[encoded data removed]",
            "text/plain": [
              "<Figure size 432x288 with 1 Axes>"
            ]
          },
          "metadata": {
            "tags": []
          }
        }
      ]
    },
    {
      "cell_type": "markdown",
      "metadata": {
        "id": "7AS4V1Nhvvxz",
        "colab_type": "text"
      },
      "source": [
        "## 2.2 Are the following vectors orthogonal? Why or why not?\n",
        "\n",
        "\\begin{align}\n",
        "a = \\begin{bmatrix} -5 \\\\ 3 \\\\ 7 \\end{bmatrix}\n",
        "\\qquad\n",
        "b = \\begin{bmatrix} 6 \\\\ -8 \\\\ 2 \\end{bmatrix}\n",
        "\\end{align}"
      ]
    },
    {
      "cell_type": "code",
      "metadata": {
        "id": "F_-y54YSz47k",
        "colab_type": "code",
        "colab": {}
      },
      "source": [
        "#the dot product is not equal to 0\n"
      ],
      "execution_count": 0,
      "outputs": []
    },
    {
      "cell_type": "markdown",
      "metadata": {
        "id": "MiNjyqiEz5SG",
        "colab_type": "text"
      },
      "source": [
        "## 2.3 Compute the following values: What do these quantities have in common?\n",
        "\n",
        "## What is $||c||^2$? \n",
        "\n",
        "## What is $c \\cdot c$? \n",
        "\n",
        "## What is $c^{T}c$?\n",
        "\n",
        "\\begin{align}\n",
        "c = \\begin{bmatrix} 2 & -15 & 6 & 20 \\end{bmatrix}\n",
        "\\end{align}"
      ]
    },
    {
      "cell_type": "code",
      "metadata": {
        "id": "IlV_uaYK1EQB",
        "colab_type": "code",
        "colab": {
          "base_uri": "https://localhost:8080/",
          "height": 67
        },
        "outputId": "327757f8-2ee6-4aa1-fc43-54f9bf5d4ae5"
      },
      "source": [
        "c = [2,-15,6,20]\n",
        "\n",
        "c_norm = np.linalg.norm(c)\n",
        "c_dot = np.dot(c,c)\n",
        "c_trans = np.transpose(c)\n",
        "\n",
        "print(c_norm)\n",
        "print(c_dot)\n",
        "print(c_trans)"
      ],
      "execution_count": 39,
      "outputs": [
        {
          "output_type": "stream",
          "text": [
            "25.787593916455254\n",
            "665\n",
            "[  2 -15   6  20]\n"
          ],
          "name": "stdout"
        }
      ]
    },
    {
      "cell_type": "markdown",
      "metadata": {
        "id": "MK_TpWqk1Evk",
        "colab_type": "text"
      },
      "source": [
        "# Unit Vectors"
      ]
    },
    {
      "cell_type": "markdown",
      "metadata": {
        "id": "Kpit6WWO1b8l",
        "colab_type": "text"
      },
      "source": [
        "## 3.1 Using Latex, write the following vectors as a linear combination of scalars and unit vectors:\n",
        "\n",
        "\\begin{align}\n",
        "d = \\begin{bmatrix} 7 \\\\ 12 \\end{bmatrix}\n",
        "\\qquad\n",
        "e = \\begin{bmatrix} 2 \\\\ 11 \\\\ -8  \\end{bmatrix}\n",
        "\\end{align}"
      ]
    },
    {
      "cell_type": "markdown",
      "metadata": {
        "id": "oBCj1sDW2ouC",
        "colab_type": "text"
      },
      "source": [
        "\\begin{align}\n",
        "d = \\begin{bmatrix} 7 \\\\ 12 \\end{bmatrix} = 7\\begin{bmatrix} 1 \\\\ 0 \\end{bmatrix} + 12\\begin{bmatrix} 0 \\\\ 1 \\end{bmatrix} = 7\\hat{i} + 12\\hat{j}\n",
        "\\end{align}\n",
        "\n",
        "\\begin{align}\n",
        "e = \\begin{bmatrix} 2 \\\\ 11 \\\\ -8 \\end{bmatrix} = 2 \\begin{bmatrix} 1\\\\ 0\\\\ 0 \\ end{bmatrix} + 11\\begin{bmatrix} 0 \\\\ 1 \\ 0 \\end{bmatrix} = -8 \\begin{bmatrix} \n",
        "0 \\\\ 0\\ 1 \\ end{bmatrix} = 2\\hat{i} + 11\\hat{j} + -8\\hat{k}\n",
        "\\end{align}"
      ]
    },
    {
      "cell_type": "markdown",
      "metadata": {
        "id": "dAdUQuep1_yJ",
        "colab_type": "text"
      },
      "source": [
        "## 3.2 Turn vector $f$ into a unit vector:\n",
        "\n",
        "\\begin{align}\n",
        "f = \\begin{bmatrix} 4 & 12 & 11 & 9 & 2 \\end{bmatrix}\n",
        "\\end{align}"
      ]
    },
    {
      "cell_type": "code",
      "metadata": {
        "id": "I3W8ZiHR1_Fa",
        "colab_type": "code",
        "colab": {
          "base_uri": "https://localhost:8080/",
          "height": 34
        },
        "outputId": "90ab49ab-c975-4eb5-8fb2-8ea20029fac2"
      },
      "source": [
        "f = [4,12,11,9,2]\n",
        "\n",
        "f_uv = f / np.linalg.norm(f)\n",
        "\n",
        "f_uv"
      ],
      "execution_count": 42,
      "outputs": [
        {
          "output_type": "execute_result",
          "data": {
            "text/plain": [
              "array([0.20908335, 0.62725005, 0.57497921, 0.47043754, 0.10454167])"
            ]
          },
          "metadata": {
            "tags": []
          },
          "execution_count": 42
        }
      ]
    },
    {
      "cell_type": "markdown",
      "metadata": {
        "id": "o39UyP-I5lpP",
        "colab_type": "text"
      },
      "source": [
        "# Linear Independence / Dependence "
      ]
    },
    {
      "cell_type": "markdown",
      "metadata": {
        "id": "ajfBqYe45sT5",
        "colab_type": "text"
      },
      "source": [
        "## 4.1 Plot two vectors that are linearly dependent and two vectors that are linearly independent (bonus points if done in $\\mathbb{R}^3$)."
      ]
    },
    {
      "cell_type": "code",
      "metadata": {
        "id": "hGApvx4GvVVN",
        "colab_type": "code",
        "colab": {
          "base_uri": "https://localhost:8080/",
          "height": 281
        },
        "outputId": "f03f3576-3385-4262-d71c-391838a9cce4"
      },
      "source": [
        "ld_v1=np.array([2,0])\n",
        "ld_v2 = np.multiply(ld_v1,5)\n",
        "\n",
        "plt.xlim(-1.1,15)\n",
        "plt.ylim(-1.1,15)\n",
        "\n",
        "\n",
        "plt.arrow(0,0, ld_v2[0],ld_v2[1],linewidth=3, head_width=.05, head_length=0.05,color='blue')\n",
        "plt.arrow(0,0, ld_v1[0],ld_v1[1],linewidth=3, head_width=.05, head_length=0.05,color='green')\n",
        "\n",
        "plt.title('linear dependent vectors')\n",
        "plt.show()"
      ],
      "execution_count": 75,
      "outputs": [
        {
          "output_type": "display_data",
          "data": {
            "image/png": "[encoded data removed]",
            "text/plain": [
              "<Figure size 432x288 with 1 Axes>"
            ]
          },
          "metadata": {
            "tags": []
          }
        }
      ]
    },
    {
      "cell_type": "code",
      "metadata": {
        "id": "CrLeQzZiLdyK",
        "colab_type": "code",
        "colab": {
          "base_uri": "https://localhost:8080/",
          "height": 34
        },
        "outputId": "4f02982b-babe-4190-d7e4-bd839d3b0dcf"
      },
      "source": [
        "ld_v2"
      ],
      "execution_count": 73,
      "outputs": [
        {
          "output_type": "execute_result",
          "data": {
            "text/plain": [
              "array([10,  0])"
            ]
          },
          "metadata": {
            "tags": []
          },
          "execution_count": 73
        }
      ]
    },
    {
      "cell_type": "code",
      "metadata": {
        "id": "O1OWe8b1yhxQ",
        "colab_type": "code",
        "colab": {
          "base_uri": "https://localhost:8080/",
          "height": 281
        },
        "outputId": "b2cfd3e7-36f4-499e-822f-b0ce5362d199"
      },
      "source": [
        "\n",
        "plt.xlim(-2,3.5)          \n",
        "plt.ylim(-1,3)\n",
        "\n",
        "\n",
        "a = [-1.0,.3] \n",
        "b = [3, 2]\n",
        "\n",
        "# Plot Vectors\n",
        "plt.arrow(0,0, a[0], a[1], linewidth=3, head_width=.05, head_length=0.05, color ='blue')\n",
        "plt.arrow(0,0, b[0], b[1], linewidth=3, head_width=.05, head_length=0.05, color ='red')\n",
        "\n",
        "plt.title(\"Linearly Independent Vectors\")\n",
        "plt.show()"
      ],
      "execution_count": 58,
      "outputs": [
        {
          "output_type": "display_data",
          "data": {
            "image/png": "[encoded data removed]",
            "text/plain": [
              "<Figure size 432x288 with 1 Axes>"
            ]
          },
          "metadata": {
            "tags": []
          }
        }
      ]
    },
    {
      "cell_type": "markdown",
      "metadata": {
        "id": "TrJ0MT_n3SvO",
        "colab_type": "text"
      },
      "source": [
        "# Span"
      ]
    },
    {
      "cell_type": "markdown",
      "metadata": {
        "id": "86iXLzwM2z8l",
        "colab_type": "text"
      },
      "source": [
        "## 5.1 What is the span of the following vectors?\n",
        "\n",
        "\\begin{align}\n",
        "g = \\begin{bmatrix} 1 & 2 \\end{bmatrix}\n",
        "\\qquad\n",
        "h = \\begin{bmatrix} 4 & 8 \\end{bmatrix}\n",
        "\\end{align}"
      ]
    },
    {
      "cell_type": "code",
      "metadata": {
        "id": "G2LK2RWL39Q4",
        "colab_type": "code",
        "colab": {
          "base_uri": "https://localhost:8080/",
          "height": 34
        },
        "outputId": "284f1d66-10e4-4a49-8f2f-6abc3c9ea5b6"
      },
      "source": [
        "g = np.array([1,2])\n",
        "h = np.array([4,8])\n",
        "\n",
        "span = np.multiply(2,g) * np.multiply(.4,h)\n",
        "\n",
        "span"
      ],
      "execution_count": 63,
      "outputs": [
        {
          "output_type": "execute_result",
          "data": {
            "text/plain": [
              "array([ 3.2, 12.8])"
            ]
          },
          "metadata": {
            "tags": []
          },
          "execution_count": 63
        }
      ]
    },
    {
      "cell_type": "markdown",
      "metadata": {
        "id": "l1deylUj4IHH",
        "colab_type": "text"
      },
      "source": [
        "## 5.2 What is the span of $\\{l, m, n\\}$?\n",
        "\n",
        "\\begin{align}\n",
        "l = \\begin{bmatrix} 1 & 2 & 3 \\end{bmatrix}\n",
        "\\qquad\n",
        "m = \\begin{bmatrix} -1 & 0 & 7 \\end{bmatrix}\n",
        "\\qquad\n",
        "n = \\begin{bmatrix} 4 & 8  & 2\\end{bmatrix}\n",
        "\\end{align}"
      ]
    },
    {
      "cell_type": "code",
      "metadata": {
        "id": "p1i_ueD25ZcP",
        "colab_type": "code",
        "colab": {
          "base_uri": "https://localhost:8080/",
          "height": 34
        },
        "outputId": "aec9e512-1b43-4a4f-ba23-0b0a946d7a19"
      },
      "source": [
        "l = np.array([1,2,3])\n",
        "m= np.array([-1,0,7])\n",
        "n= np.array([4,8,2])\n",
        "span2 = (np.multiply(3,l) * np.multiply(.4,m) * np.multiply(.3,n))\n",
        "\n",
        "span2"
      ],
      "execution_count": 68,
      "outputs": [
        {
          "output_type": "execute_result",
          "data": {
            "text/plain": [
              "array([-1.44,  0.  , 15.12])"
            ]
          },
          "metadata": {
            "tags": []
          },
          "execution_count": 68
        }
      ]
    },
    {
      "cell_type": "markdown",
      "metadata": {
        "id": "IBqe7X1732kX",
        "colab_type": "text"
      },
      "source": [
        "# Basis"
      ]
    },
    {
      "cell_type": "markdown",
      "metadata": {
        "id": "YeUZVHRM6PpT",
        "colab_type": "text"
      },
      "source": [
        "## 6.1 Graph two vectors that form a basis for $\\mathbb{R}^2$\n",
        "\n"
      ]
    },
    {
      "cell_type": "code",
      "metadata": {
        "id": "utvF3Pkt8NP6",
        "colab_type": "code",
        "colab": {
          "base_uri": "https://localhost:8080/",
          "height": 269
        },
        "outputId": "c40342ab-34ce-4a58-90c5-70180217d743"
      },
      "source": [
        "basis = np.array(a) + np.array(h)\n",
        "\n",
        "plt.xlim(-1,10)\n",
        "plt.ylim(-1,10)\n",
        "plt.arrow(0,0,h[0],h[1],color='blue')\n",
        "plt.arrow(0,0,a[0],a[1],color='green')\n",
        "plt.arrow(0,0,basis[0],basis[1],color='yellow',label='basis r^2')\n",
        "\n",
        "plt.show()"
      ],
      "execution_count": 86,
      "outputs": [
        {
          "output_type": "display_data",
          "data": {
            "image/png": "[encoded data removed]",
            "text/plain": [
              "<Figure size 432x288 with 1 Axes>"
            ]
          },
          "metadata": {
            "tags": []
          }
        }
      ]
    },
    {
      "cell_type": "code",
      "metadata": {
        "id": "BgJUuFxtOoXb",
        "colab_type": "code",
        "colab": {
          "base_uri": "https://localhost:8080/",
          "height": 34
        },
        "outputId": "486fc1dd-83cc-4307-c446-1a65c426fb0b"
      },
      "source": [
        "basis"
      ],
      "execution_count": 85,
      "outputs": [
        {
          "output_type": "execute_result",
          "data": {
            "text/plain": [
              "array([3. , 8.3])"
            ]
          },
          "metadata": {
            "tags": []
          },
          "execution_count": 85
        }
      ]
    },
    {
      "cell_type": "markdown",
      "metadata": {
        "id": "20yPFBDUxxnS",
        "colab_type": "text"
      },
      "source": [
        "## 6.2 What does it mean to form a basis?"
      ]
    },
    {
      "cell_type": "markdown",
      "metadata": {
        "id": "3w4tEayT8M0o",
        "colab_type": "text"
      },
      "source": [
        ""
      ]
    },
    {
      "cell_type": "markdown",
      "metadata": {
        "id": "EHmUxbcY6vD3",
        "colab_type": "text"
      },
      "source": [
        "# Rank"
      ]
    },
    {
      "cell_type": "markdown",
      "metadata": {
        "id": "IpJwt9kw6v8U",
        "colab_type": "text"
      },
      "source": [
        "## 7.1 What is the Rank of P?\n",
        "\n",
        "\\begin{align}\n",
        "P = \\begin{bmatrix} \n",
        "1 & 2 & 3 \\\\\n",
        " -1 & 0 & 7 \\\\\n",
        "4 & 8  & 2\n",
        "\\end{bmatrix}\n",
        "\\end{align}"
      ]
    },
    {
      "cell_type": "code",
      "metadata": {
        "id": "JQ6PPZtqMJmm",
        "colab_type": "code",
        "colab": {
          "base_uri": "https://localhost:8080/",
          "height": 34
        },
        "outputId": "44253499-b404-4893-bd1e-8027e6e33f9d"
      },
      "source": [
        "p = np.array([[1,2,3],\n",
        "              [-1,0,7],\n",
        "              [4,8,2]])\n",
        "\n",
        "ranks= np.linalg.matrix_rank(p)\n",
        "ranks"
      ],
      "execution_count": 78,
      "outputs": [
        {
          "output_type": "execute_result",
          "data": {
            "text/plain": [
              "3"
            ]
          },
          "metadata": {
            "tags": []
          },
          "execution_count": 78
        }
      ]
    },
    {
      "cell_type": "markdown",
      "metadata": {
        "id": "jGqFMBYY7mHD",
        "colab_type": "text"
      },
      "source": [
        "## 7.2 What does the rank of a matrix tell us?"
      ]
    },
    {
      "cell_type": "markdown",
      "metadata": {
        "id": "Vjg1IiCD8nnP",
        "colab_type": "text"
      },
      "source": [
        "the dimensionality of the matrix "
      ]
    },
    {
      "cell_type": "markdown",
      "metadata": {
        "id": "0Db2sc_V8QD6",
        "colab_type": "text"
      },
      "source": [
        "# Linear Projections\n",
        "\n",
        "## 8.1 Line $L$ is formed by all of the vectors that can be created by scaling vector $v$ \n",
        "\\begin{align}\n",
        "v = \\begin{bmatrix} 1 & 3 \\end{bmatrix}\n",
        "\\end{align}\n",
        "\n",
        "\\begin{align}\n",
        "w = \\begin{bmatrix} -1 & 2 \\end{bmatrix}\n",
        "\\end{align}\n",
        "\n",
        "## find $proj_{L}(w)$\n",
        "\n",
        "## graph your projected vector to check your work (make sure your axis are square/even)"
      ]
    },
    {
      "cell_type": "code",
      "metadata": {
        "id": "hp5z2WTBCNKx",
        "colab_type": "code",
        "colab": {}
      },
      "source": [
        ""
      ],
      "execution_count": 0,
      "outputs": []
    },
    {
      "cell_type": "markdown",
      "metadata": {
        "id": "TKkrPwRM-Oar",
        "colab_type": "text"
      },
      "source": [
        "# Stretch Goal\n",
        "\n",
        "## For vectors that begin at the origin, the coordinates of where the vector ends can be interpreted as regular data points. (See 3Blue1Brown videos about Spans, Basis, etc.)\n",
        "\n",
        "## Write a function that can calculate the linear projection of each point (x,y) (vector) onto the line y=x. run the function and plot the original points in blue and the new projected points on the line y=x in red. \n",
        "\n",
        "## For extra points plot the orthogonal vectors as a dashed line from the original blue points to the projected red points."
      ]
    },
    {
      "cell_type": "code",
      "metadata": {
        "id": "cp52kZra-ykj",
        "colab_type": "code",
        "outputId": "12502200-eafe-4e20-bfb7-2d539c6027cb",
        "colab": {
          "base_uri": "https://localhost:8080/",
          "height": 347
        }
      },
      "source": [
        "import pandas as pd\n",
        "import matplotlib.pyplot as plt\n",
        "\n",
        "# Creating a dataframe for you to work with -Feel free to not use the dataframe if you don't want to.\n",
        "x_values = [1, 4, 7, 3, 9, 4, 5 ]\n",
        "y_values = [4, 2, 5, 0, 8, 2, 8]\n",
        "\n",
        "data = {\"x\": x_values, \"y\": y_values}\n",
        "\n",
        "df = pd.DataFrame(data)\n",
        "\n",
        "df.head()\n",
        "\n",
        "plt.scatter(df.x, df.y)\n",
        "plt.show()"
      ],
      "execution_count": 0,
      "outputs": [
        {
          "output_type": "display_data",
          "data": {
            "image/png": "[encoded data removed]",
            "text/plain": [
              "<matplotlib.figure.Figure at 0x7f787cfb2978>"
            ]
          },
          "metadata": {
            "tags": []
          }
        }
      ]
    },
    {
      "cell_type": "code",
      "metadata": {
        "id": "EZTA6Tj6BGDb",
        "colab_type": "code",
        "colab": {}
      },
      "source": [
        ""
      ],
      "execution_count": 0,
      "outputs": []
    }
  ]
}