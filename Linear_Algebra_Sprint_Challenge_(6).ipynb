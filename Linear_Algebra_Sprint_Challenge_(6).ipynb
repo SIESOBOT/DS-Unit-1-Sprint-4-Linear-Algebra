{
  "nbformat": 4,
  "nbformat_minor": 0,
  "metadata": {
    "colab": {
      "name": "Linear_Algebra_Sprint_Challenge (6).ipynb",
      "provenance": [],
      "include_colab_link": true
    },
    "kernelspec": {
      "name": "python3",
      "display_name": "Python 3"
    }
  },
  "cells": [
    {
      "cell_type": "markdown",
      "metadata": {
        "id": "view-in-github",
        "colab_type": "text"
      },
      "source": [
        "<a href=\"https://colab.research.google.com/github/SIESOBOT/DS-Unit-1-Sprint-4-Linear-Algebra/blob/master/Linear_Algebra_Sprint_Challenge_(6).ipynb\" target=\"_parent\"><img src=\"https://colab.research.google.com/assets/colab-badge.svg\" alt=\"Open In Colab\"/></a>"
      ]
    },
    {
      "cell_type": "markdown",
      "metadata": {
        "id": "-wQxiT7yC4_v",
        "colab_type": "text"
      },
      "source": [
        "#Linear Algebra"
      ]
    },
    {
      "cell_type": "markdown",
      "metadata": {
        "id": "aiUlaNJkECCL",
        "colab_type": "text"
      },
      "source": [
        "## 1.1 Graph vector $\\vec{a}$ \n",
        "\n",
        "\\begin{align}\n",
        "\\vec{a} = \\begin{bmatrix} 3 \\\\ 2 \\end{bmatrix}\n",
        "\\end{align}"
      ]
    },
    {
      "cell_type": "code",
      "metadata": {
        "id": "QpCKt0n5IeiY",
        "colab_type": "code",
        "colab": {}
      },
      "source": [
        "#first! my libraries(superpowers)\n",
        "import numpy as np\n",
        "import pandas as pd\n",
        "import matplotlib.pyplot as plt\n",
        "from sklearn.decomposition import PCA \n",
        "from sklearn.cluster import KMeans \n",
        "from sklearn.preprocessing import StandardScaler \n"
      ],
      "execution_count": 0,
      "outputs": []
    },
    {
      "cell_type": "code",
      "metadata": {
        "id": "CDXhUac5mGPM",
        "colab_type": "code",
        "colab": {
          "base_uri": "https://localhost:8080/",
          "height": 281
        },
        "outputId": "9ef2bf4c-e0dc-4e89-db83-841dedd7e21d"
      },
      "source": [
        "#graphing vector a\n",
        "a= np.array([3,2])\n",
        "#Graphing the Array\n",
        "plt.ylim(0,6)\n",
        "plt.xlim(0,6)\n",
        "plt.arrow(0,0,a[0],a[1],color='y',head_length=0.01)\n",
        "plt.title('Vector A graph')\n",
        "plt.show()"
      ],
      "execution_count": 66,
      "outputs": [
        {
          "output_type": "display_data",
          "data": {
            "image/png": "[encoded data removed]",
            "text/plain": [
              "<Figure size 432x288 with 1 Axes>"
            ]
          },
          "metadata": {
            "tags": []
          }
        }
      ]
    },
    {
      "cell_type": "markdown",
      "metadata": {
        "id": "BDLB08NXEiUN",
        "colab_type": "text"
      },
      "source": [
        "## 1.2 Find $||\\vec{b}||$. What does the norm of a vector represent?\n",
        "\\begin{align}\n",
        "\\vec{b} = \\begin{bmatrix} 17 & -4 & -2 & 1\\end{bmatrix}\n",
        "\\end{align}\n"
      ]
    },
    {
      "cell_type": "code",
      "metadata": {
        "id": "Fp3mocAKIfGD",
        "colab_type": "code",
        "colab": {
          "base_uri": "https://localhost:8080/",
          "height": 34
        },
        "outputId": "0a4f85bd-fbcb-427d-eadc-8bbf6f6db2ed"
      },
      "source": [
        "# the norm of a vector shows the lenght of it on space\n",
        "b = np.array([17,-4,-2,1])\n",
        "np.linalg.norm(b)"
      ],
      "execution_count": 67,
      "outputs": [
        {
          "output_type": "execute_result",
          "data": {
            "text/plain": [
              "17.60681686165901"
            ]
          },
          "metadata": {
            "tags": []
          },
          "execution_count": 67
        }
      ]
    },
    {
      "cell_type": "markdown",
      "metadata": {
        "id": "vBbJ0ZyPD6RG",
        "colab_type": "text"
      },
      "source": [
        "## 1.3 Find $\\vec{c} \\cdot \\vec{d}$ - Are these vectors orthogonal? Why or why not?\n",
        "\n",
        "\\begin{align}\n",
        "\\vec{c} = \\begin{bmatrix}3 & 7 & -2 & 12\\end{bmatrix}\n",
        "\\qquad\n",
        "\\vec{d} = \\begin{bmatrix}9 & -7 & 4 & 6\\end{bmatrix}\n",
        "\\end{align}"
      ]
    },
    {
      "cell_type": "code",
      "metadata": {
        "id": "NYb8BalmIfgY",
        "colab_type": "code",
        "colab": {
          "base_uri": "https://localhost:8080/",
          "height": 34
        },
        "outputId": "6ba58ab5-04c3-49f2-8849-58106cd525c0"
      },
      "source": [
        "#Defining vectors C and D\n",
        "c = np.array([3,7,-2,-12])\n",
        "d = np.array([9,-7,4,6])\n",
        "#finding the dot product\n",
        "np.dot(c,d)\n",
        "#the dot product is not equal to 0, thereofore these vectors\n",
        "#are not orthogonal"
      ],
      "execution_count": 68,
      "outputs": [
        {
          "output_type": "execute_result",
          "data": {
            "text/plain": [
              "-102"
            ]
          },
          "metadata": {
            "tags": []
          },
          "execution_count": 68
        }
      ]
    },
    {
      "cell_type": "markdown",
      "metadata": {
        "id": "gS85sJHWG7iU",
        "colab_type": "text"
      },
      "source": [
        "## 1.4 Find $E^{-1}$ and $E^{T}$\n",
        "\n",
        "\\begin{align}\n",
        "E = \n",
        "\\begin{bmatrix}\n",
        "    7 & 4 & 2 \\\\\n",
        "    1 & 3 & -1 \\\\\n",
        "    2 & 6 & -4\n",
        "\\end{bmatrix}\n",
        "\\end{align}"
      ]
    },
    {
      "cell_type": "code",
      "metadata": {
        "id": "QiISq5egIgSS",
        "colab_type": "code",
        "colab": {
          "base_uri": "https://localhost:8080/",
          "height": 118
        },
        "outputId": "16062e56-9579-4801-a726-03f26beb5488"
      },
      "source": [
        "# defining matrix E\n",
        " e = np.array([[7,4,2],\n",
        "               [1,3,-1],\n",
        "               [2,6,-4]])\n",
        " #inverse matrix\n",
        " e_inv = np.linalg.inv(e)\n",
        " #transposed matrix\n",
        " e_t = np.transpose(e)\n",
        "\n",
        " print(e_inv)\n",
        " print(e_t)\n"
      ],
      "execution_count": 69,
      "outputs": [
        {
          "output_type": "stream",
          "text": [
            "[[ 0.17647059 -0.82352941  0.29411765]\n",
            " [-0.05882353  0.94117647 -0.26470588]\n",
            " [ 0.          1.         -0.5       ]]\n",
            "[[ 7  1  2]\n",
            " [ 4  3  6]\n",
            " [ 2 -1 -4]]\n"
          ],
          "name": "stdout"
        }
      ]
    },
    {
      "cell_type": "markdown",
      "metadata": {
        "id": "_DFQHO2HcPNz",
        "colab_type": "text"
      },
      "source": [
        "## 1.5 Find $|F|$ - What is one reason why the determinant of a matrix would be 0? \n",
        "\n",
        "\\begin{align}\n",
        "F = \n",
        "\\begin{bmatrix}\n",
        "    2 & -2 & 5 \\\\\n",
        "    4 & 1 & 10 \\\\\n",
        "    12 & 6 & 30\n",
        "\\end{bmatrix}\n",
        "\\end{align}"
      ]
    },
    {
      "cell_type": "code",
      "metadata": {
        "id": "_GzwTJzPrjTR",
        "colab_type": "code",
        "colab": {
          "base_uri": "https://localhost:8080/",
          "height": 34
        },
        "outputId": "d0e32a72-6919-44b0-c6c2-c8fc042d5b1f"
      },
      "source": [
        "f = np.array([[2,-2,5],\n",
        "              [4,1,10],\n",
        "              [12,6,30]])\n",
        "np.linalg.det(f)\n",
        "#the reason for the matrix determinant is 0 is because these are all \n",
        "#linearly dependent"
      ],
      "execution_count": 70,
      "outputs": [
        {
          "output_type": "execute_result",
          "data": {
            "text/plain": [
              "0.0"
            ]
          },
          "metadata": {
            "tags": []
          },
          "execution_count": 70
        }
      ]
    },
    {
      "cell_type": "markdown",
      "metadata": {
        "id": "TPzrKzEvC5YU",
        "colab_type": "text"
      },
      "source": [
        "# Intermediate Linear Algebra"
      ]
    },
    {
      "cell_type": "markdown",
      "metadata": {
        "id": "ap-us2lBGQyi",
        "colab_type": "text"
      },
      "source": [
        "## 2.1 Suppose that the number of customers at a ski resort as well as the number of inches of fresh powder (snow)  was recorded for 7 days. \n",
        "\n",
        "### Customers: [820, 760, 1250, 990, 1080, 1450, 1600]\n",
        "\n",
        "### Inches of new snow: [0, 1, 7, 1, 0, 6, 4 ]\n",
        "\n",
        "## Find the mean, sample variance, and sample standard deviation for both the number of customers and inches of new snow for the week. Remember that on SCs you can use library functions, dataframes, .describe(), etc. \n",
        "\n"
      ]
    },
    {
      "cell_type": "code",
      "metadata": {
        "id": "xS-JuHl9JiiP",
        "colab_type": "code",
        "colab": {}
      },
      "source": [
        "customers = [820, 760, 1250, 990, 1080, 1450, 1600]\n",
        "snow = [0, 1, 7, 1, 0, 6, 4]"
      ],
      "execution_count": 0,
      "outputs": []
    },
    {
      "cell_type": "code",
      "metadata": {
        "id": "cNxeVa0cg40d",
        "colab_type": "code",
        "colab": {}
      },
      "source": [
        "##### defined a function to do this for me :) #####\n",
        "def sc_intalg21(values):\n",
        "    mean = np.mean(values)\n",
        "    variance = np.var(values,ddof=1)\n",
        "    std = np.std(values,ddof=1)\n",
        "    return mean , variance, std"
      ],
      "execution_count": 0,
      "outputs": []
    },
    {
      "cell_type": "code",
      "metadata": {
        "id": "eWrRmI1ouMLl",
        "colab_type": "code",
        "colab": {
          "base_uri": "https://localhost:8080/",
          "height": 34
        },
        "outputId": "bab12bdb-b317-4e32-cc67-021a794d2043"
      },
      "source": [
        "sc_intalg21(customers)\n",
        "#these are the mean, sample variance and sample standard deviation of the \n",
        "#customers"
      ],
      "execution_count": 73,
      "outputs": [
        {
          "output_type": "execute_result",
          "data": {
            "text/plain": [
              "(1135.7142857142858, 98761.90476190478, 314.26406851866597)"
            ]
          },
          "metadata": {
            "tags": []
          },
          "execution_count": 73
        }
      ]
    },
    {
      "cell_type": "code",
      "metadata": {
        "id": "ddSnnKIIugtk",
        "colab_type": "code",
        "colab": {
          "base_uri": "https://localhost:8080/",
          "height": 34
        },
        "outputId": "176bdc53-6925-448b-c746-ac6a437c8e8e"
      },
      "source": [
        "sc_intalg21(snow)\n",
        "#these are the mean, sample variance and sample standard deviation of the \n",
        "#snow"
      ],
      "execution_count": 74,
      "outputs": [
        {
          "output_type": "execute_result",
          "data": {
            "text/plain": [
              "(2.7142857142857144, 8.571428571428571, 2.9277002188455996)"
            ]
          },
          "metadata": {
            "tags": []
          },
          "execution_count": 74
        }
      ]
    },
    {
      "cell_type": "markdown",
      "metadata": {
        "id": "3ePJtK4VLTLH",
        "colab_type": "text"
      },
      "source": [
        "## 2.2 Are the variances of the number of customers and inches of snow comparable? \n",
        "## Why or why not? "
      ]
    },
    {
      "cell_type": "code",
      "metadata": {
        "id": "LvTtgZ-5Ndw_",
        "colab_type": "code",
        "colab": {}
      },
      "source": [
        "#The variances in both snow and customers is very diferent, by definition\n",
        "#the variance measures the difference of a random variable from its expected value\n",
        "#the variance of the customers data is way different from the expected values\n",
        "#(values on the set), meanwhile, the variance of the snow data is somewhat\n",
        "#comparable to the values on it.\n"
      ],
      "execution_count": 0,
      "outputs": []
    },
    {
      "cell_type": "markdown",
      "metadata": {
        "id": "ixhZVGxfGVFh",
        "colab_type": "text"
      },
      "source": [
        "## 2.3 Find the variance-covariance matrix for the number of customers and inches of snow at the ski resort. "
      ]
    },
    {
      "cell_type": "code",
      "metadata": {
        "id": "IbglmVaxJjO7",
        "colab_type": "code",
        "colab": {
          "base_uri": "https://localhost:8080/",
          "height": 50
        },
        "outputId": "f264cdda-a047-49e9-ae45-a7e66cc759e5"
      },
      "source": [
        "cust_snow_cov = np.cov([customers,snow])\n",
        "cust_snow_cov"
      ],
      "execution_count": 75,
      "outputs": [
        {
          "output_type": "execute_result",
          "data": {
            "text/plain": [
              "array([[9.87619048e+04, 6.70238095e+02],\n",
              "       [6.70238095e+02, 8.57142857e+00]])"
            ]
          },
          "metadata": {
            "tags": []
          },
          "execution_count": 75
        }
      ]
    },
    {
      "cell_type": "markdown",
      "metadata": {
        "id": "6Ks3_TbNC5yJ",
        "colab_type": "text"
      },
      "source": [
        "# PCA"
      ]
    },
    {
      "cell_type": "markdown",
      "metadata": {
        "id": "f6qJAPaaOdzD",
        "colab_type": "text"
      },
      "source": [
        "## 3.1 Standardize the data so that it has a mean of 0 and a standard deviation of 1. \n",
        "\n",
        "We have included some code to get you started so that you don't get stuck on something that isn't standardizing the data or PCA.\n",
        "\n",
        "This might be helpful:\n",
        "\n",
        "<https://scikit-learn.org/stable/modules/generated/sklearn.preprocessing.StandardScaler.html>"
      ]
    },
    {
      "cell_type": "code",
      "metadata": {
        "id": "bogsxfNyJlAw",
        "colab_type": "code",
        "outputId": "f02a70f5-e569-44b1-f60e-5b301bc817d1",
        "colab": {
          "base_uri": "https://localhost:8080/",
          "height": 219
        }
      },
      "source": [
        "# Let me get you some data to start you off.\n",
        "import pandas as pd\n",
        "\n",
        "data = {\"Country\": [\"England\",\"Wales\",\"Scotland\",\"North Ireland\"], \n",
        "        \"Cheese\": [105,103,103,66], \n",
        "        \"Carcass_Meat\": [245,227,242,267], \n",
        "        \"Other_Meat\": [685, 803, 750, 586], \n",
        "        \"Fish\": [147, 160, 122, 93], \n",
        "        \"Fats_and_Oils\": [193, 235, 184, 209], \n",
        "        \"Sugars\": [156, 175, 147, 139], \n",
        "        \"Fresh_Potatoes\": [720, 874, 566, 1033], \n",
        "        \"Fresh_Veg\": [253, 265, 171, 143], \n",
        "        \"Other_Veg\": [488, 570, 418, 355], \n",
        "        \"Processed_Potatoes\": [198, 203, 220, 187], \n",
        "        \"Processed_Veg\": [360, 365, 337, 334], \n",
        "        \"Fresh_Fruit\": [1102, 1137, 957, 674], \n",
        "        \"Cereals\": [1472, 1582, 1462, 1494], \n",
        "        \"Beverages\": [57,73,53,47], \n",
        "        \"Soft_Drinks\": [1374, 1256, 1572, 1506], \n",
        "        \"Alcoholic Drinks\": [375, 475, 458, 135], \n",
        "        \"Confectionery\": [54, 64, 62, 41]}\n",
        "\n",
        "df = pd.DataFrame(data)\n",
        "\n",
        "# Look at the data\n",
        "df.head()"
      ],
      "execution_count": 76,
      "outputs": [
        {
          "output_type": "execute_result",
          "data": {
            "text/html": [
              "<div>\n",
              "<style scoped>\n",
              "    .dataframe tbody tr th:only-of-type {\n",
              "        vertical-align: middle;\n",
              "    }\n",
              "\n",
              "    .dataframe tbody tr th {\n",
              "        vertical-align: top;\n",
              "    }\n",
              "\n",
              "    .dataframe thead th {\n",
              "        text-align: right;\n",
              "    }\n",
              "</style>\n",
              "<table border=\"1\" class=\"dataframe\">\n",
              "  <thead>\n",
              "    <tr style=\"text-align: right;\">\n",
              "      <th></th>\n",
              "      <th>Country</th>\n",
              "      <th>Cheese</th>\n",
              "      <th>Carcass_Meat</th>\n",
              "      <th>Other_Meat</th>\n",
              "      <th>Fish</th>\n",
              "      <th>Fats_and_Oils</th>\n",
              "      <th>Sugars</th>\n",
              "      <th>Fresh_Potatoes</th>\n",
              "      <th>Fresh_Veg</th>\n",
              "      <th>Other_Veg</th>\n",
              "      <th>Processed_Potatoes</th>\n",
              "      <th>Processed_Veg</th>\n",
              "      <th>Fresh_Fruit</th>\n",
              "      <th>Cereals</th>\n",
              "      <th>Beverages</th>\n",
              "      <th>Soft_Drinks</th>\n",
              "      <th>Alcoholic Drinks</th>\n",
              "      <th>Confectionery</th>\n",
              "    </tr>\n",
              "  </thead>\n",
              "  <tbody>\n",
              "    <tr>\n",
              "      <th>0</th>\n",
              "      <td>England</td>\n",
              "      <td>105</td>\n",
              "      <td>245</td>\n",
              "      <td>685</td>\n",
              "      <td>147</td>\n",
              "      <td>193</td>\n",
              "      <td>156</td>\n",
              "      <td>720</td>\n",
              "      <td>253</td>\n",
              "      <td>488</td>\n",
              "      <td>198</td>\n",
              "      <td>360</td>\n",
              "      <td>1102</td>\n",
              "      <td>1472</td>\n",
              "      <td>57</td>\n",
              "      <td>1374</td>\n",
              "      <td>375</td>\n",
              "      <td>54</td>\n",
              "    </tr>\n",
              "    <tr>\n",
              "      <th>1</th>\n",
              "      <td>Wales</td>\n",
              "      <td>103</td>\n",
              "      <td>227</td>\n",
              "      <td>803</td>\n",
              "      <td>160</td>\n",
              "      <td>235</td>\n",
              "      <td>175</td>\n",
              "      <td>874</td>\n",
              "      <td>265</td>\n",
              "      <td>570</td>\n",
              "      <td>203</td>\n",
              "      <td>365</td>\n",
              "      <td>1137</td>\n",
              "      <td>1582</td>\n",
              "      <td>73</td>\n",
              "      <td>1256</td>\n",
              "      <td>475</td>\n",
              "      <td>64</td>\n",
              "    </tr>\n",
              "    <tr>\n",
              "      <th>2</th>\n",
              "      <td>Scotland</td>\n",
              "      <td>103</td>\n",
              "      <td>242</td>\n",
              "      <td>750</td>\n",
              "      <td>122</td>\n",
              "      <td>184</td>\n",
              "      <td>147</td>\n",
              "      <td>566</td>\n",
              "      <td>171</td>\n",
              "      <td>418</td>\n",
              "      <td>220</td>\n",
              "      <td>337</td>\n",
              "      <td>957</td>\n",
              "      <td>1462</td>\n",
              "      <td>53</td>\n",
              "      <td>1572</td>\n",
              "      <td>458</td>\n",
              "      <td>62</td>\n",
              "    </tr>\n",
              "    <tr>\n",
              "      <th>3</th>\n",
              "      <td>North Ireland</td>\n",
              "      <td>66</td>\n",
              "      <td>267</td>\n",
              "      <td>586</td>\n",
              "      <td>93</td>\n",
              "      <td>209</td>\n",
              "      <td>139</td>\n",
              "      <td>1033</td>\n",
              "      <td>143</td>\n",
              "      <td>355</td>\n",
              "      <td>187</td>\n",
              "      <td>334</td>\n",
              "      <td>674</td>\n",
              "      <td>1494</td>\n",
              "      <td>47</td>\n",
              "      <td>1506</td>\n",
              "      <td>135</td>\n",
              "      <td>41</td>\n",
              "    </tr>\n",
              "  </tbody>\n",
              "</table>\n",
              "</div>"
            ],
            "text/plain": [
              "         Country  Cheese  ...  Alcoholic Drinks  Confectionery\n",
              "0        England     105  ...               375             54\n",
              "1          Wales     103  ...               475             64\n",
              "2       Scotland     103  ...               458             62\n",
              "3  North Ireland      66  ...               135             41\n",
              "\n",
              "[4 rows x 18 columns]"
            ]
          },
          "metadata": {
            "tags": []
          },
          "execution_count": 76
        }
      ]
    },
    {
      "cell_type": "code",
      "metadata": {
        "id": "2HY91nOpaTTZ",
        "colab_type": "code",
        "colab": {
          "base_uri": "https://localhost:8080/",
          "height": 286
        },
        "outputId": "1a8f38b1-43fe-4302-97f2-af48e3707f89"
      },
      "source": [
        "##### Your Code Here #####\n",
        "df = df.drop('Country',axis=1)\n",
        "#standardizing data\n",
        "scaler = StandardScaler()\n",
        "z = scaler.fit_transform(df)\n",
        "\n",
        "z"
      ],
      "execution_count": 77,
      "outputs": [
        {
          "output_type": "execute_result",
          "data": {
            "text/plain": [
              "array([[ 0.65827466, -0.01749546, -0.25954622,  0.64458535, -0.63242919,\n",
              "         0.13055067, -0.45007561,  0.86331183,  0.37773603, -0.33626508,\n",
              "         0.80547723,  0.73740709, -0.64432226, -0.05191741, -0.43523112,\n",
              "         0.10499766, -0.13830319],\n",
              "       [ 0.53580495, -1.27716878,  1.19885635,  1.15244047,  1.53589947,\n",
              "         1.54795798,  0.43569619,  1.09352832,  1.40168163,  0.08406627,\n",
              "         1.17160324,  0.9292974 ,  1.67946294,  1.60943981, -1.40423624,\n",
              "         0.84182336,  0.96812236],\n",
              "       [ 0.53580495, -0.22744102,  0.54381113, -0.33205912, -1.09707105,\n",
              "        -0.54085279, -1.33584741, -0.70983418, -0.49636387,  1.51319287,\n",
              "        -0.87870243, -0.0575671 , -0.85557546, -0.46725672,  1.19072664,\n",
              "         0.71656299,  0.74683725],\n",
              "       [-1.72988456,  1.52210526, -1.48312126, -1.4649667 ,  0.19360077,\n",
              "        -1.13765587,  1.35022682, -1.24700598, -1.28305378, -1.26099406,\n",
              "        -1.09837804, -1.60913739, -0.17956522, -1.09026568,  0.64874072,\n",
              "        -1.66338402, -1.57665641]])"
            ]
          },
          "metadata": {
            "tags": []
          },
          "execution_count": 77
        }
      ]
    },
    {
      "cell_type": "markdown",
      "metadata": {
        "id": "5U50KZkdJb_s",
        "colab_type": "text"
      },
      "source": [
        "## 3.2 Perform PCA on the data and graph Principal Component 1 against Principal Component 2. \n",
        "\n",
        "This might be helpful:\n",
        "\n",
        "<https://scikit-learn.org/stable/modules/generated/sklearn.decomposition.PCA.html>"
      ]
    },
    {
      "cell_type": "code",
      "metadata": {
        "id": "RqjwVokgP1fL",
        "colab_type": "code",
        "colab": {}
      },
      "source": [
        "##### pca on the dataframe #####\n",
        "pca = PCA(.9)\n",
        "pca_features = pca.fit_transform(z)\n"
      ],
      "execution_count": 0,
      "outputs": []
    },
    {
      "cell_type": "code",
      "metadata": {
        "id": "YjG_8-JiyTGy",
        "colab_type": "code",
        "colab": {
          "base_uri": "https://localhost:8080/",
          "height": 166
        },
        "outputId": "d0803491-0e81-47d3-aeda-634ce0f2e8f5"
      },
      "source": [
        "pca_df = pd.DataFrame(pca_features)\n",
        "pca_df.columns = ['PC1','PC2']\n",
        "pca_df.head()"
      ],
      "execution_count": 79,
      "outputs": [
        {
          "output_type": "execute_result",
          "data": {
            "text/html": [
              "<div>\n",
              "<style scoped>\n",
              "    .dataframe tbody tr th:only-of-type {\n",
              "        vertical-align: middle;\n",
              "    }\n",
              "\n",
              "    .dataframe tbody tr th {\n",
              "        vertical-align: top;\n",
              "    }\n",
              "\n",
              "    .dataframe thead th {\n",
              "        text-align: right;\n",
              "    }\n",
              "</style>\n",
              "<table border=\"1\" class=\"dataframe\">\n",
              "  <thead>\n",
              "    <tr style=\"text-align: right;\">\n",
              "      <th></th>\n",
              "      <th>PC1</th>\n",
              "      <th>PC2</th>\n",
              "    </tr>\n",
              "  </thead>\n",
              "  <tbody>\n",
              "    <tr>\n",
              "      <th>0</th>\n",
              "      <td>-0.954490</td>\n",
              "      <td>0.328318</td>\n",
              "    </tr>\n",
              "    <tr>\n",
              "      <th>1</th>\n",
              "      <td>-4.520951</td>\n",
              "      <td>-1.735380</td>\n",
              "    </tr>\n",
              "    <tr>\n",
              "      <th>2</th>\n",
              "      <td>0.487978</td>\n",
              "      <td>3.233672</td>\n",
              "    </tr>\n",
              "    <tr>\n",
              "      <th>3</th>\n",
              "      <td>4.987462</td>\n",
              "      <td>-1.826611</td>\n",
              "    </tr>\n",
              "  </tbody>\n",
              "</table>\n",
              "</div>"
            ],
            "text/plain": [
              "        PC1       PC2\n",
              "0 -0.954490  0.328318\n",
              "1 -4.520951 -1.735380\n",
              "2  0.487978  3.233672\n",
              "3  4.987462 -1.826611"
            ]
          },
          "metadata": {
            "tags": []
          },
          "execution_count": 79
        }
      ]
    },
    {
      "cell_type": "code",
      "metadata": {
        "id": "CREr_mzSzMrU",
        "colab_type": "code",
        "colab": {
          "base_uri": "https://localhost:8080/",
          "height": 295
        },
        "outputId": "e7b1982d-d4e2-46cc-8ea6-71915478f782"
      },
      "source": [
        "plt.scatter(pca_df['PC1'],pca_df['PC2'],alpha=0.5)\n",
        "plt.xlabel('PC2')\n",
        "plt.ylabel('PC1')\n",
        "plt.title('PCA Graph')\n",
        "plt.show()\n"
      ],
      "execution_count": 80,
      "outputs": [
        {
          "output_type": "display_data",
          "data": {
            "image/png": "[encoded data removed]",
            "text/plain": [
              "<Figure size 432x288 with 1 Axes>"
            ]
          },
          "metadata": {
            "tags": []
          }
        }
      ]
    },
    {
      "cell_type": "markdown",
      "metadata": {
        "id": "m_sdj4vvG_tg",
        "colab_type": "text"
      },
      "source": [
        "## 3.3 What are Eigenvalues and Eigenvectors? -In general, not just in PCA."
      ]
    },
    {
      "cell_type": "markdown",
      "metadata": {
        "id": "QlhJnyR2HUTR",
        "colab_type": "text"
      },
      "source": [
        "Eigenvector is a vector that does not change regardless of the transformation.\n",
        "Eigenvalue is the value by which the Eigenvector is scaled."
      ]
    },
    {
      "cell_type": "markdown",
      "metadata": {
        "id": "z-RzYKR0C6Wg",
        "colab_type": "text"
      },
      "source": [
        "# Clustering"
      ]
    },
    {
      "cell_type": "markdown",
      "metadata": {
        "id": "62efk4plJe54",
        "colab_type": "text"
      },
      "source": [
        "## 4.1 Use K-Means to cluster the following data and then graph your results. \n",
        "\n",
        "We have included some code to get you started so that you don't get stuck on something that isn't standardizing clustering.\n",
        "\n",
        "Prioritize calculating the clusters over graphing them. \n",
        "\n",
        "Scikit-Learn K-Means Documentation:\n",
        "\n",
        "<https://scikit-learn.org/stable/modules/generated/sklearn.cluster.KMeans.html>"
      ]
    },
    {
      "cell_type": "code",
      "metadata": {
        "id": "miK5Aeg-JlzJ",
        "colab_type": "code",
        "outputId": "53355556-7640-49b7-f86e-f4b82f2901d8",
        "colab": {
          "base_uri": "https://localhost:8080/",
          "height": 195
        }
      },
      "source": [
        "points = pd.read_csv('https://raw.githubusercontent.com/ryanleeallred/datasets/master/points.csv')\n",
        "points.head()"
      ],
      "execution_count": 81,
      "outputs": [
        {
          "output_type": "execute_result",
          "data": {
            "text/html": [
              "<div>\n",
              "<style scoped>\n",
              "    .dataframe tbody tr th:only-of-type {\n",
              "        vertical-align: middle;\n",
              "    }\n",
              "\n",
              "    .dataframe tbody tr th {\n",
              "        vertical-align: top;\n",
              "    }\n",
              "\n",
              "    .dataframe thead th {\n",
              "        text-align: right;\n",
              "    }\n",
              "</style>\n",
              "<table border=\"1\" class=\"dataframe\">\n",
              "  <thead>\n",
              "    <tr style=\"text-align: right;\">\n",
              "      <th></th>\n",
              "      <th>x</th>\n",
              "      <th>y</th>\n",
              "    </tr>\n",
              "  </thead>\n",
              "  <tbody>\n",
              "    <tr>\n",
              "      <th>0</th>\n",
              "      <td>-7.846803</td>\n",
              "      <td>-3.421277</td>\n",
              "    </tr>\n",
              "    <tr>\n",
              "      <th>1</th>\n",
              "      <td>-3.554323</td>\n",
              "      <td>-6.884729</td>\n",
              "    </tr>\n",
              "    <tr>\n",
              "      <th>2</th>\n",
              "      <td>-0.192822</td>\n",
              "      <td>-9.671030</td>\n",
              "    </tr>\n",
              "    <tr>\n",
              "      <th>3</th>\n",
              "      <td>-6.401456</td>\n",
              "      <td>-5.223972</td>\n",
              "    </tr>\n",
              "    <tr>\n",
              "      <th>4</th>\n",
              "      <td>-0.804026</td>\n",
              "      <td>-9.704457</td>\n",
              "    </tr>\n",
              "  </tbody>\n",
              "</table>\n",
              "</div>"
            ],
            "text/plain": [
              "          x         y\n",
              "0 -7.846803 -3.421277\n",
              "1 -3.554323 -6.884729\n",
              "2 -0.192822 -9.671030\n",
              "3 -6.401456 -5.223972\n",
              "4 -0.804026 -9.704457"
            ]
          },
          "metadata": {
            "tags": []
          },
          "execution_count": 81
        }
      ]
    },
    {
      "cell_type": "code",
      "metadata": {
        "id": "qX0zKKznTzcI",
        "colab_type": "code",
        "colab": {
          "base_uri": "https://localhost:8080/",
          "height": 1000
        },
        "outputId": "cb946ac9-b520-4aff-cfb7-c4aad997609c"
      },
      "source": [
        "##### Your Code Here #####\n",
        "standardized_points = scaler.fit_transform(points)\n",
        "standardized_points"
      ],
      "execution_count": 82,
      "outputs": [
        {
          "output_type": "execute_result",
          "data": {
            "text/plain": [
              "array([[-1.21526379e+00,  2.86037188e-04],\n",
              "       [-2.70846217e-01, -6.21863006e-01],\n",
              "       [ 4.68740475e-01, -1.12237346e+00],\n",
              "       [-8.97263139e-01, -3.23536806e-01],\n",
              "       [ 3.34265444e-01, -1.12837792e+00],\n",
              "       [-5.83901585e-01, -4.87876229e-01],\n",
              "       [-1.27514964e+00, -3.61493204e-02],\n",
              "       [-1.28101065e+00,  1.14052055e-01],\n",
              "       [-2.74000332e-01,  1.58519487e+00],\n",
              "       [-7.45507361e-01, -6.07004467e-01],\n",
              "       [-3.70236546e-01, -8.21276183e-01],\n",
              "       [-4.45252599e-01, -6.55731775e-01],\n",
              "       [ 5.16199687e-01, -1.28425299e+00],\n",
              "       [-5.12658923e-01, -8.40267708e-01],\n",
              "       [-1.30684890e+00, -1.69198224e-01],\n",
              "       [ 1.17498591e-01, -1.37830766e+00],\n",
              "       [-1.15366593e+00, -1.74027100e-01],\n",
              "       [-1.49353728e-01, -4.15974917e-01],\n",
              "       [-5.57611813e-02, -7.92066494e-01],\n",
              "       [ 1.99420407e+00,  1.35805442e+00],\n",
              "       [-1.24151228e+00,  4.90205302e-02],\n",
              "       [ 1.88969493e+00,  1.51541391e+00],\n",
              "       [ 1.89400952e+00,  1.41370075e+00],\n",
              "       [ 1.92043381e+00,  1.40233100e+00],\n",
              "       [-7.97113881e-02, -9.14291591e-01],\n",
              "       [-6.51190075e-01, -1.06321676e+00],\n",
              "       [ 5.26779895e-01, -1.20189377e+00],\n",
              "       [ 1.50223553e-01,  1.33386379e+00],\n",
              "       [-5.02389343e-01, -8.88047680e-01],\n",
              "       [-5.19363132e-01, -6.90550486e-01],\n",
              "       [-1.85472438e-01, -7.58654610e-01],\n",
              "       [-5.39491898e-02, -6.66791422e-01],\n",
              "       [ 4.91282014e-01, -7.57944304e-01],\n",
              "       [ 2.01641994e+00,  1.08647010e+00],\n",
              "       [-8.99698535e-01, -9.96724593e-01],\n",
              "       [-5.02723446e-01, -6.41888181e-01],\n",
              "       [-8.58512836e-02, -8.68974429e-01],\n",
              "       [-1.85125441e-01, -5.47724032e-01],\n",
              "       [-2.93222940e-01,  1.40914219e+00],\n",
              "       [ 1.69627050e-01, -1.06195336e+00],\n",
              "       [ 8.12013720e-01, -1.32060729e+00],\n",
              "       [ 1.92358526e+00,  1.47667287e+00],\n",
              "       [-1.07464653e-01,  1.35244750e+00],\n",
              "       [-3.01202986e-01,  1.45692920e+00],\n",
              "       [-4.14267733e-01,  1.24081892e+00],\n",
              "       [-1.60203827e-01, -3.09078926e-01],\n",
              "       [ 1.05933203e-01, -7.46279964e-01],\n",
              "       [-1.37317152e-01, -6.13804406e-01],\n",
              "       [-1.30600408e+00,  1.24277877e-01],\n",
              "       [ 5.22222381e-01, -9.95571051e-01],\n",
              "       [ 1.41560436e+00,  1.39684284e+00],\n",
              "       [-9.08165989e-01,  1.40919355e-01],\n",
              "       [-1.29269314e+00,  6.59345984e-02],\n",
              "       [-3.91576095e-01,  1.34397491e+00],\n",
              "       [ 2.19028929e+00,  1.67164726e+00],\n",
              "       [ 8.17117858e-01, -9.60371356e-01],\n",
              "       [-3.73433619e-01, -5.53644821e-01],\n",
              "       [-6.13143077e-01,  1.22769978e+00],\n",
              "       [-3.62059430e-01,  1.41904371e+00],\n",
              "       [-1.36961745e+00,  3.28102581e-02],\n",
              "       [ 1.56501809e+00,  1.22524406e+00],\n",
              "       [ 4.44710819e-01, -8.74883040e-01],\n",
              "       [-1.41367427e+00,  3.56689011e-02],\n",
              "       [-2.69249601e-01,  1.50513585e+00],\n",
              "       [ 1.53285868e+00,  1.17642483e+00],\n",
              "       [-1.44049335e-02,  1.48011630e+00],\n",
              "       [ 1.83953097e+00,  1.39570051e+00],\n",
              "       [-2.81783423e-01,  1.21642812e+00],\n",
              "       [-9.41502748e-01, -3.00424359e-01],\n",
              "       [-6.45480173e-01,  1.35003663e+00],\n",
              "       [ 1.26434852e-01, -6.69456132e-01],\n",
              "       [-3.53742000e-01, -6.30128776e-01],\n",
              "       [-4.62037886e-01, -9.42363422e-01],\n",
              "       [-5.35129188e-01, -8.92484801e-01],\n",
              "       [ 2.04147036e+00,  1.17060229e+00],\n",
              "       [ 2.06229940e+00,  1.17484139e+00],\n",
              "       [-5.45602154e-01, -7.39490287e-01],\n",
              "       [-4.10699404e-01, -7.60961005e-01],\n",
              "       [ 5.05980434e-02,  1.33194193e+00],\n",
              "       [ 1.83270163e+00,  1.19492447e+00],\n",
              "       [-3.77304294e-01,  1.44113304e+00],\n",
              "       [-4.60656396e-01, -5.07053432e-01],\n",
              "       [-4.11666236e-01, -9.97480808e-01],\n",
              "       [-3.17832742e-01, -2.98224391e-01],\n",
              "       [-2.39949816e-01,  1.03995841e+00],\n",
              "       [-1.85843261e-01, -6.61716219e-01],\n",
              "       [-3.11310717e-01,  1.27339187e+00],\n",
              "       [-1.55435266e-01, -1.00837720e+00],\n",
              "       [-6.51080355e-01, -9.44306140e-01],\n",
              "       [ 1.56891771e+00,  1.35767469e+00],\n",
              "       [-8.20544185e-02,  1.29556194e+00],\n",
              "       [-2.90223233e-01, -7.18548796e-01],\n",
              "       [ 1.33154568e+00,  1.08062101e+00],\n",
              "       [-4.45601621e-02, -6.22156564e-01],\n",
              "       [ 4.36909306e-01, -1.34040838e+00],\n",
              "       [-4.36124547e-01, -9.17240464e-01],\n",
              "       [-4.96225424e-04, -7.04180416e-01],\n",
              "       [-3.13104658e-01, -1.21721920e+00],\n",
              "       [-5.33407347e-02, -5.65289396e-01],\n",
              "       [ 5.51167539e-01, -1.19662343e+00],\n",
              "       [-1.04379853e-01, -9.22702954e-01],\n",
              "       [ 9.63427806e-02, -5.61927965e-01],\n",
              "       [-1.51875755e+00, -3.53616177e-01],\n",
              "       [-6.69611405e-01, -7.81349863e-01],\n",
              "       [-3.13654130e-01, -5.09937911e-01],\n",
              "       [ 2.05548328e+00,  1.10473305e+00],\n",
              "       [-1.52954374e+00,  9.35150954e-02],\n",
              "       [-1.42860206e+00, -1.99317684e-01],\n",
              "       [-1.35376211e+00,  3.20492486e-02],\n",
              "       [ 1.80142871e+00,  1.45042898e+00],\n",
              "       [ 2.35715402e-01, -1.18527558e+00],\n",
              "       [ 1.84518203e+00,  1.19933229e+00],\n",
              "       [-4.34725374e-01, -8.47876336e-01],\n",
              "       [-1.71506946e+00,  1.24561073e-02],\n",
              "       [ 1.22317377e-01, -8.34760820e-01],\n",
              "       [-5.61835775e-01, -5.55752008e-01],\n",
              "       [-4.70594981e-01,  1.09666326e+00],\n",
              "       [-3.86331653e-01,  1.02884511e+00],\n",
              "       [ 2.09295745e+00,  1.41075868e+00],\n",
              "       [-6.35520011e-01,  1.46850314e+00],\n",
              "       [ 1.99539142e+00,  1.24571567e+00],\n",
              "       [ 7.51065792e-01, -1.24870257e+00],\n",
              "       [-4.87984723e-01, -1.18694201e+00],\n",
              "       [-1.20561166e+00, -1.26853405e-01],\n",
              "       [-7.02984086e-01, -1.00145068e+00],\n",
              "       [-1.15857236e+00,  2.88902092e-02],\n",
              "       [-8.27925662e-03, -7.25926702e-01],\n",
              "       [ 1.96991133e+00,  1.34200836e+00],\n",
              "       [-1.99755456e-01,  1.22607752e+00],\n",
              "       [-1.27993879e+00,  5.38973865e-02],\n",
              "       [ 1.11954855e-01, -1.22259636e+00],\n",
              "       [-1.44873271e+00, -7.22201881e-02],\n",
              "       [-7.63447288e-01, -1.03326708e+00],\n",
              "       [-1.55894661e+00,  1.09677412e-01],\n",
              "       [-4.75535650e-01,  1.34279366e+00],\n",
              "       [ 1.06950496e-01,  1.41965373e+00],\n",
              "       [ 3.52055549e-01, -1.21920948e+00],\n",
              "       [ 2.20568303e+00,  1.19649485e+00],\n",
              "       [-1.42067437e+00, -4.32793426e-02],\n",
              "       [-4.30418404e-01, -6.69268284e-01],\n",
              "       [ 9.10588920e-02,  1.46923361e+00],\n",
              "       [-2.43186823e-01, -7.75591253e-01],\n",
              "       [-2.47878749e-01, -9.84139042e-01],\n",
              "       [ 2.09380474e+00,  1.22443363e+00],\n",
              "       [ 5.85323307e-01, -1.02145268e+00],\n",
              "       [-4.34850198e-01,  1.31822665e+00],\n",
              "       [-1.16913784e-01, -6.34417262e-01],\n",
              "       [-4.40825885e-01,  1.52198479e+00],\n",
              "       [-1.44946301e+00,  5.91192830e-02],\n",
              "       [-3.05197355e-01, -7.41167199e-01],\n",
              "       [-2.28523157e-01, -9.92592982e-01],\n",
              "       [ 2.65104315e-01, -1.08718753e+00],\n",
              "       [-1.20504478e+00, -1.97003461e-01],\n",
              "       [ 1.86085859e+00,  1.20855728e+00],\n",
              "       [-4.46726368e-01, -1.03339987e+00],\n",
              "       [-3.84778647e-01,  1.51541282e+00],\n",
              "       [ 5.93279713e-01, -1.14844523e+00],\n",
              "       [ 1.93961386e+00,  1.33849938e+00],\n",
              "       [-2.26169061e-01, -4.38875705e-01],\n",
              "       [-1.57312490e+00,  8.18748512e-02],\n",
              "       [ 1.73668629e-01, -1.23623652e+00],\n",
              "       [-1.95349628e-01, -9.15800826e-01],\n",
              "       [-2.52554171e-01,  1.53354505e+00],\n",
              "       [-1.41045968e+00,  3.11197553e-01],\n",
              "       [ 1.74764629e+00,  1.22482482e+00],\n",
              "       [ 1.85789963e+00,  1.35069259e+00],\n",
              "       [ 1.01376458e-01, -8.61386185e-01],\n",
              "       [-8.93307210e-02,  1.13689213e+00],\n",
              "       [ 4.96233132e-01, -1.14379871e+00],\n",
              "       [ 6.80067009e-01, -8.65733723e-01],\n",
              "       [-1.65563234e+00, -1.64111102e-01],\n",
              "       [ 4.10755286e-01, -1.23082118e+00],\n",
              "       [-2.76879772e-01,  1.44282159e+00],\n",
              "       [ 2.22903043e+00,  1.23791850e+00],\n",
              "       [ 3.83497472e-01, -1.16579722e+00],\n",
              "       [ 2.35440088e-02, -6.73509278e-01],\n",
              "       [-2.43574229e-01, -5.23456650e-01],\n",
              "       [-3.06987557e-01, -8.38641276e-01],\n",
              "       [-7.43486066e-01, -5.64177825e-01],\n",
              "       [-1.08664549e+00, -1.75471283e-01],\n",
              "       [-4.08770625e-01, -4.92803224e-01],\n",
              "       [ 3.35335294e-01, -8.93373818e-01],\n",
              "       [-2.33730333e-01, -4.01950162e-01],\n",
              "       [-9.62101445e-02, -8.45037915e-01],\n",
              "       [ 1.21489979e-01, -1.14821043e+00],\n",
              "       [-1.04207402e-01, -1.01801382e+00],\n",
              "       [-1.63843801e+00, -2.04506653e-01],\n",
              "       [ 2.14597863e+00,  1.15454997e+00],\n",
              "       [-3.51887572e-01,  1.53409770e+00],\n",
              "       [ 5.22078038e-01, -8.99804907e-01],\n",
              "       [-2.56351925e-01, -8.25610575e-01],\n",
              "       [-1.50251115e+00, -1.72068243e-01],\n",
              "       [ 1.90408142e+00,  1.44252385e+00],\n",
              "       [-1.13530995e+00,  2.42733997e-01],\n",
              "       [-4.96758106e-01, -1.05328310e+00],\n",
              "       [-2.72246708e-01,  1.43529853e+00],\n",
              "       [ 1.62251698e+00,  1.46723102e+00],\n",
              "       [ 1.85934483e+00,  1.38461830e+00],\n",
              "       [ 1.18857458e-01, -9.82145742e-01],\n",
              "       [ 4.36449820e-01, -8.84166671e-01]])"
            ]
          },
          "metadata": {
            "tags": []
          },
          "execution_count": 82
        }
      ]
    },
    {
      "cell_type": "code",
      "metadata": {
        "id": "DfIkpzjQ7ICw",
        "colab_type": "code",
        "colab": {
          "base_uri": "https://localhost:8080/",
          "height": 118
        },
        "outputId": "6b46f6c3-4ae2-4739-fc5d-7201817fbc29"
      },
      "source": [
        "#applying Kmeans to the data\n",
        "kmeans= KMeans(5)\n",
        "kmeans.fit(standardized_points)\n",
        "print(kmeans.labels_)"
      ],
      "execution_count": 83,
      "outputs": [
        {
          "output_type": "stream",
          "text": [
            "[4 3 0 4 0 3 4 4 2 3 3 3 0 3 4 0 4 3 3 1 4 1 1 1 3 3 0 2 3 3 3 3 0 1 3 3 3\n",
            " 3 2 0 0 1 2 2 2 3 3 3 4 0 1 4 4 2 1 0 3 2 2 4 1 0 4 2 1 2 1 2 4 2 3 3 3 3\n",
            " 1 1 3 3 2 1 2 3 3 3 2 3 2 3 3 1 2 3 1 3 0 3 3 3 3 0 3 3 4 3 3 1 4 4 4 1 0\n",
            " 1 3 4 0 3 2 2 1 2 1 0 3 4 3 4 3 1 2 4 0 4 3 4 2 2 0 1 4 3 2 3 3 1 0 2 3 2\n",
            " 4 3 3 0 4 1 3 2 0 1 3 4 0 3 2 4 1 1 0 2 0 0 4 0 2 1 0 3 3 3 3 4 3 0 3 3 0\n",
            " 3 4 1 2 0 3 4 1 4 3 2 1 1 0 0]\n"
          ],
          "name": "stdout"
        }
      ]
    },
    {
      "cell_type": "code",
      "metadata": {
        "id": "rKyohipH7q72",
        "colab_type": "code",
        "colab": {
          "base_uri": "https://localhost:8080/",
          "height": 195
        },
        "outputId": "33e07951-f072-4300-c6ff-b472af20e931"
      },
      "source": [
        "#adding the labels to de dataframe\n",
        "points['clusters'] = pd.Series(kmeans.labels_)\n",
        "points.head()"
      ],
      "execution_count": 84,
      "outputs": [
        {
          "output_type": "execute_result",
          "data": {
            "text/html": [
              "<div>\n",
              "<style scoped>\n",
              "    .dataframe tbody tr th:only-of-type {\n",
              "        vertical-align: middle;\n",
              "    }\n",
              "\n",
              "    .dataframe tbody tr th {\n",
              "        vertical-align: top;\n",
              "    }\n",
              "\n",
              "    .dataframe thead th {\n",
              "        text-align: right;\n",
              "    }\n",
              "</style>\n",
              "<table border=\"1\" class=\"dataframe\">\n",
              "  <thead>\n",
              "    <tr style=\"text-align: right;\">\n",
              "      <th></th>\n",
              "      <th>x</th>\n",
              "      <th>y</th>\n",
              "      <th>clusters</th>\n",
              "    </tr>\n",
              "  </thead>\n",
              "  <tbody>\n",
              "    <tr>\n",
              "      <th>0</th>\n",
              "      <td>-7.846803</td>\n",
              "      <td>-3.421277</td>\n",
              "      <td>4</td>\n",
              "    </tr>\n",
              "    <tr>\n",
              "      <th>1</th>\n",
              "      <td>-3.554323</td>\n",
              "      <td>-6.884729</td>\n",
              "      <td>3</td>\n",
              "    </tr>\n",
              "    <tr>\n",
              "      <th>2</th>\n",
              "      <td>-0.192822</td>\n",
              "      <td>-9.671030</td>\n",
              "      <td>0</td>\n",
              "    </tr>\n",
              "    <tr>\n",
              "      <th>3</th>\n",
              "      <td>-6.401456</td>\n",
              "      <td>-5.223972</td>\n",
              "      <td>4</td>\n",
              "    </tr>\n",
              "    <tr>\n",
              "      <th>4</th>\n",
              "      <td>-0.804026</td>\n",
              "      <td>-9.704457</td>\n",
              "      <td>0</td>\n",
              "    </tr>\n",
              "  </tbody>\n",
              "</table>\n",
              "</div>"
            ],
            "text/plain": [
              "          x         y  clusters\n",
              "0 -7.846803 -3.421277         4\n",
              "1 -3.554323 -6.884729         3\n",
              "2 -0.192822 -9.671030         0\n",
              "3 -6.401456 -5.223972         4\n",
              "4 -0.804026 -9.704457         0"
            ]
          },
          "metadata": {
            "tags": []
          },
          "execution_count": 84
        }
      ]
    },
    {
      "cell_type": "code",
      "metadata": {
        "id": "Tsv3Cv-g8XHq",
        "colab_type": "code",
        "colab": {
          "base_uri": "https://localhost:8080/",
          "height": 281
        },
        "outputId": "c2f2c170-5a18-4608-d718-7cbf8576e37c"
      },
      "source": [
        "#plotting the data\n",
        "plt.scatter(points['x'],points['y'],c=points['clusters'])\n",
        "plt.title(\"Kmeans plot\")\n",
        "plt.show()"
      ],
      "execution_count": 85,
      "outputs": [
        {
          "output_type": "display_data",
          "data": {
            "image/png": "[encoded data removed]",
            "text/plain": [
              "<Figure size 432x288 with 1 Axes>"
            ]
          },
          "metadata": {
            "tags": []
          }
        }
      ]
    },
    {
      "cell_type": "markdown",
      "metadata": {
        "id": "oxxNyhv_FGKB",
        "colab_type": "text"
      },
      "source": [
        "# Stretch Goals (AKA how to get a 3):\n",
        "\n",
        "Complete the stretch goals for each section in order to get a 3 on that section.\n",
        "\n",
        "## Parts 1 & 2 (do all of the following): \n",
        "  - Comment your code well with both markdown and inline comments where appropriate\n",
        "  - Show your work with code and possibly LaTeX \n",
        "  - Justify your answers particularly well to show advanced mastery of this section\n",
        "\n",
        "## Part 3 (do all of the following): \n",
        " - Create a Scree Plot to show the Proportion of Explained Variance of each Principal Component (more than the first two)\n",
        "    - If you want to include a the cumulative proportion of explained variance, you might be interested in this NumPy Function: [numpy.cumsum](https://docs.scipy.org/doc/numpy/reference/generated/numpy.cumsum.html)\n",
        " - Give a top-notch explanation of eigenvalues and eigenvectors. Feel free to any materials, images, code, graphs, LaTeX, etc. to spruce up your answer.\n",
        "\n",
        "## Part 4 (do all of the following):\n",
        "- Justify your choice of k, both visually (scatterplot) and mathematically (elbow plot)."
      ]
    },
    {
      "cell_type": "markdown",
      "metadata": {
        "id": "TvPWsOKqCct3",
        "colab_type": "text"
      },
      "source": [
        "## This is the optimal amount of k for part 4"
      ]
    },
    {
      "cell_type": "code",
      "metadata": {
        "id": "0bOIshbbClVn",
        "colab_type": "code",
        "colab": {
          "base_uri": "https://localhost:8080/",
          "height": 34
        },
        "outputId": "c676e6c6-6ab3-4965-de87-100db838024a"
      },
      "source": [
        "#elbow method\n",
        "kmeans.inertia_"
      ],
      "execution_count": 86,
      "outputs": [
        {
          "output_type": "execute_result",
          "data": {
            "text/plain": [
              "15.174255639487098"
            ]
          },
          "metadata": {
            "tags": []
          },
          "execution_count": 86
        }
      ]
    },
    {
      "cell_type": "code",
      "metadata": {
        "id": "mWDe7_n5C8W9",
        "colab_type": "code",
        "colab": {}
      },
      "source": [
        "#wcss is a method that sums the square distances of each data points \n",
        "#in all clusters in relation to their centroids\n",
        "#i used a for loop to make things easier\n",
        "wcss =[]\n",
        "for i in range(1,8):\n",
        "    kmeans = KMeans(i)\n",
        "    kmeans.fit(standardized_points)\n",
        "    wcss_itter = kmeans.inertia_\n",
        "    wcss.append(wcss_itter)"
      ],
      "execution_count": 0,
      "outputs": []
    },
    {
      "cell_type": "code",
      "metadata": {
        "id": "ztqZvyA0Eotx",
        "colab_type": "code",
        "colab": {
          "base_uri": "https://localhost:8080/",
          "height": 134
        },
        "outputId": "60c002fc-0c0b-4f75-ad4a-f2d217e77bdb"
      },
      "source": [
        "wcss"
      ],
      "execution_count": 88,
      "outputs": [
        {
          "output_type": "execute_result",
          "data": {
            "text/plain": [
              "[400.0,\n",
              " 161.8688196341332,\n",
              " 79.29133997688989,\n",
              " 29.246307552631876,\n",
              " 15.174255639487098,\n",
              " 12.232334427329068,\n",
              " 10.873881263241232]"
            ]
          },
          "metadata": {
            "tags": []
          },
          "execution_count": 88
        }
      ]
    },
    {
      "cell_type": "code",
      "metadata": {
        "id": "8eugay-WEqAP",
        "colab_type": "code",
        "colab": {
          "base_uri": "https://localhost:8080/",
          "height": 295
        },
        "outputId": "27c0507d-e499-4e9c-af81-b2e51dee968e"
      },
      "source": [
        "#the initial number of clusters is 8 which is the default setting for \n",
        "#Kmeans \n",
        "number_clusters = range(1,8)\n",
        "plt.plot(number_clusters,wcss)\n",
        "plt.title('The Elbow Method')\n",
        "plt.xlabel('# of Clusters')\n",
        "plt.ylabel('WCSS')\n",
        "plt.show()"
      ],
      "execution_count": 90,
      "outputs": [
        {
          "output_type": "display_data",
          "data": {
            "image/png": "[encoded data removed]",
            "text/plain": [
              "<Figure size 432x288 with 1 Axes>"
            ]
          },
          "metadata": {
            "tags": []
          }
        }
      ]
    },
    {
      "cell_type": "code",
      "metadata": {
        "id": "jJ2XPNoxHFvL",
        "colab_type": "code",
        "colab": {
          "base_uri": "https://localhost:8080/",
          "height": 265
        },
        "outputId": "02373321-3f59-4972-da2c-94d3371d3f2d"
      },
      "source": [
        "#Also by Plotting this data into a scatterplot we can se either 4 or 5 clusters just by\n",
        "# 'eyeballing it, i decided to use 5\n",
        "plt.scatter(points['x'],points['y'],alpha=0.3)\n",
        "plt.show()"
      ],
      "execution_count": 92,
      "outputs": [
        {
          "output_type": "display_data",
          "data": {
            "image/png": "[encoded data removed]",
            "text/plain": [
              "<Figure size 432x288 with 1 Axes>"
            ]
          },
          "metadata": {
            "tags": []
          }
        }
      ]
    },
    {
      "cell_type": "code",
      "metadata": {
        "id": "KMaxHqL6HgR_",
        "colab_type": "code",
        "colab": {}
      },
      "source": [
        ""
      ],
      "execution_count": 0,
      "outputs": []
    }
  ]
}